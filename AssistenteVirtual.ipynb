{
  "nbformat": 4,
  "nbformat_minor": 0,
  "metadata": {
    "colab": {
      "provenance": [],
      "authorship_tag": "ABX9TyOZLLmrgq+gEZoLwmA38RHY",
      "include_colab_link": true
    },
    "kernelspec": {
      "name": "python3",
      "display_name": "Python 3"
    },
    "language_info": {
      "name": "python"
    }
  },
  "cells": [
    {
      "cell_type": "markdown",
      "metadata": {
        "id": "view-in-github",
        "colab_type": "text"
      },
      "source": [
        "<a href=\"https://colab.research.google.com/github/leticiafcarvalho/AssistenteVirtual/blob/main/AssistenteVirtual.ipynb\" target=\"_parent\"><img src=\"https://colab.research.google.com/assets/colab-badge.svg\" alt=\"Open In Colab\"/></a>"
      ]
    },
    {
      "cell_type": "code",
      "execution_count": 2,
      "metadata": {
        "colab": {
          "base_uri": "https://localhost:8080/"
        },
        "id": "mHxkr5WqXPKI",
        "outputId": "7861d06f-765d-4148-87ba-dc485db40210"
      },
      "outputs": [
        {
          "output_type": "stream",
          "name": "stdout",
          "text": [
            "Collecting SpeechRecognition\n",
            "  Using cached SpeechRecognition-3.11.0-py2.py3-none-any.whl.metadata (28 kB)\n",
            "Collecting gTTS\n",
            "  Using cached gTTS-2.5.4-py3-none-any.whl.metadata (4.1 kB)\n",
            "Collecting playsound\n",
            "  Downloading playsound-1.3.0.tar.gz (7.7 kB)\n",
            "  Preparing metadata (setup.py) ... \u001b[?25l\u001b[?25hdone\n",
            "Collecting wikipedia\n",
            "  Downloading wikipedia-1.4.0.tar.gz (27 kB)\n",
            "  Preparing metadata (setup.py) ... \u001b[?25l\u001b[?25hdone\n",
            "Requirement already satisfied: requests>=2.26.0 in /usr/local/lib/python3.10/dist-packages (from SpeechRecognition) (2.32.3)\n",
            "Requirement already satisfied: typing-extensions in /usr/local/lib/python3.10/dist-packages (from SpeechRecognition) (4.12.2)\n",
            "Requirement already satisfied: click<8.2,>=7.1 in /usr/local/lib/python3.10/dist-packages (from gTTS) (8.1.7)\n",
            "Requirement already satisfied: beautifulsoup4 in /usr/local/lib/python3.10/dist-packages (from wikipedia) (4.12.3)\n",
            "Requirement already satisfied: charset-normalizer<4,>=2 in /usr/local/lib/python3.10/dist-packages (from requests>=2.26.0->SpeechRecognition) (3.4.0)\n",
            "Requirement already satisfied: idna<4,>=2.5 in /usr/local/lib/python3.10/dist-packages (from requests>=2.26.0->SpeechRecognition) (3.10)\n",
            "Requirement already satisfied: urllib3<3,>=1.21.1 in /usr/local/lib/python3.10/dist-packages (from requests>=2.26.0->SpeechRecognition) (2.2.3)\n",
            "Requirement already satisfied: certifi>=2017.4.17 in /usr/local/lib/python3.10/dist-packages (from requests>=2.26.0->SpeechRecognition) (2024.8.30)\n",
            "Requirement already satisfied: soupsieve>1.2 in /usr/local/lib/python3.10/dist-packages (from beautifulsoup4->wikipedia) (2.6)\n",
            "Using cached SpeechRecognition-3.11.0-py2.py3-none-any.whl (32.8 MB)\n",
            "Using cached gTTS-2.5.4-py3-none-any.whl (29 kB)\n",
            "Building wheels for collected packages: playsound, wikipedia\n",
            "  Building wheel for playsound (setup.py) ... \u001b[?25l\u001b[?25hdone\n",
            "  Created wheel for playsound: filename=playsound-1.3.0-py3-none-any.whl size=7020 sha256=9bf7ba7ad7b882ca8b19bfd9c2455a824d5c64a608c7931fe49aa0db2446bedf\n",
            "  Stored in directory: /root/.cache/pip/wheels/90/89/ed/2d643f4226fc8c7c9156fc28abd8051e2d2c0de37ae51ac45c\n",
            "  Building wheel for wikipedia (setup.py) ... \u001b[?25l\u001b[?25hdone\n",
            "  Created wheel for wikipedia: filename=wikipedia-1.4.0-py3-none-any.whl size=11679 sha256=2713c139e202ea5d49f3b0dde9178ff2ee159d46d14ea47e848f657c44484fea\n",
            "  Stored in directory: /root/.cache/pip/wheels/5e/b6/c5/93f3dec388ae76edc830cb42901bb0232504dfc0df02fc50de\n",
            "Successfully built playsound wikipedia\n",
            "Installing collected packages: playsound, wikipedia, SpeechRecognition, gTTS\n",
            "Successfully installed SpeechRecognition-3.11.0 gTTS-2.5.4 playsound-1.3.0 wikipedia-1.4.0\n"
          ]
        }
      ],
      "source": [
        "!pip install SpeechRecognition gTTS playsound wikipedia\n"
      ]
    },
    {
      "cell_type": "code",
      "source": [
        "!apt-get install -y portaudio19-dev\n",
        "!pip install pyaudio"
      ],
      "metadata": {
        "colab": {
          "base_uri": "https://localhost:8080/"
        },
        "id": "t79cnil6aId-",
        "outputId": "960145ea-8f1d-4377-dc50-8dfb91551712"
      },
      "execution_count": 19,
      "outputs": [
        {
          "output_type": "stream",
          "name": "stdout",
          "text": [
            "Reading package lists... Done\n",
            "Building dependency tree... Done\n",
            "Reading state information... Done\n",
            "The following additional packages will be installed:\n",
            "  libportaudio2 libportaudiocpp0\n",
            "Suggested packages:\n",
            "  portaudio19-doc\n",
            "The following NEW packages will be installed:\n",
            "  libportaudio2 libportaudiocpp0 portaudio19-dev\n",
            "0 upgraded, 3 newly installed, 0 to remove and 49 not upgraded.\n",
            "Need to get 188 kB of archives.\n",
            "After this operation, 927 kB of additional disk space will be used.\n",
            "Get:1 http://archive.ubuntu.com/ubuntu jammy/universe amd64 libportaudio2 amd64 19.6.0-1.1 [65.3 kB]\n",
            "Get:2 http://archive.ubuntu.com/ubuntu jammy/universe amd64 libportaudiocpp0 amd64 19.6.0-1.1 [16.1 kB]\n",
            "Get:3 http://archive.ubuntu.com/ubuntu jammy/universe amd64 portaudio19-dev amd64 19.6.0-1.1 [106 kB]\n",
            "Fetched 188 kB in 1s (190 kB/s)\n",
            "Selecting previously unselected package libportaudio2:amd64.\n",
            "(Reading database ... 123630 files and directories currently installed.)\n",
            "Preparing to unpack .../libportaudio2_19.6.0-1.1_amd64.deb ...\n",
            "Unpacking libportaudio2:amd64 (19.6.0-1.1) ...\n",
            "Selecting previously unselected package libportaudiocpp0:amd64.\n",
            "Preparing to unpack .../libportaudiocpp0_19.6.0-1.1_amd64.deb ...\n",
            "Unpacking libportaudiocpp0:amd64 (19.6.0-1.1) ...\n",
            "Selecting previously unselected package portaudio19-dev:amd64.\n",
            "Preparing to unpack .../portaudio19-dev_19.6.0-1.1_amd64.deb ...\n",
            "Unpacking portaudio19-dev:amd64 (19.6.0-1.1) ...\n",
            "Setting up libportaudio2:amd64 (19.6.0-1.1) ...\n",
            "Setting up libportaudiocpp0:amd64 (19.6.0-1.1) ...\n",
            "Setting up portaudio19-dev:amd64 (19.6.0-1.1) ...\n",
            "Processing triggers for libc-bin (2.35-0ubuntu3.4) ...\n",
            "/sbin/ldconfig.real: /usr/local/lib/libur_loader.so.0 is not a symbolic link\n",
            "\n",
            "/sbin/ldconfig.real: /usr/local/lib/libtcm_debug.so.1 is not a symbolic link\n",
            "\n",
            "/sbin/ldconfig.real: /usr/local/lib/libtbbbind_2_5.so.3 is not a symbolic link\n",
            "\n",
            "/sbin/ldconfig.real: /usr/local/lib/libtbbmalloc_proxy.so.2 is not a symbolic link\n",
            "\n",
            "/sbin/ldconfig.real: /usr/local/lib/libur_adapter_opencl.so.0 is not a symbolic link\n",
            "\n",
            "/sbin/ldconfig.real: /usr/local/lib/libtbbbind_2_0.so.3 is not a symbolic link\n",
            "\n",
            "/sbin/ldconfig.real: /usr/local/lib/libtbbbind.so.3 is not a symbolic link\n",
            "\n",
            "/sbin/ldconfig.real: /usr/local/lib/libtbb.so.12 is not a symbolic link\n",
            "\n",
            "/sbin/ldconfig.real: /usr/local/lib/libtcm.so.1 is not a symbolic link\n",
            "\n",
            "/sbin/ldconfig.real: /usr/local/lib/libur_adapter_level_zero.so.0 is not a symbolic link\n",
            "\n",
            "/sbin/ldconfig.real: /usr/local/lib/libtbbmalloc.so.2 is not a symbolic link\n",
            "\n",
            "/sbin/ldconfig.real: /usr/local/lib/libhwloc.so.15 is not a symbolic link\n",
            "\n",
            "/sbin/ldconfig.real: /usr/local/lib/libumf.so.0 is not a symbolic link\n",
            "\n",
            "Collecting pyaudio\n",
            "  Using cached PyAudio-0.2.14.tar.gz (47 kB)\n",
            "  Installing build dependencies ... \u001b[?25l\u001b[?25hdone\n",
            "  Getting requirements to build wheel ... \u001b[?25l\u001b[?25hdone\n",
            "  Preparing metadata (pyproject.toml) ... \u001b[?25l\u001b[?25hdone\n",
            "Building wheels for collected packages: pyaudio\n",
            "  Building wheel for pyaudio (pyproject.toml) ... \u001b[?25l\u001b[?25hdone\n",
            "  Created wheel for pyaudio: filename=PyAudio-0.2.14-cp310-cp310-linux_x86_64.whl size=63860 sha256=5d1c0c77f92d39689231d4d02c2eb8b178be9fc9b435fcf578ef563870c217dc\n",
            "  Stored in directory: /root/.cache/pip/wheels/d6/21/f4/0b51d41ba79e51b16295cbb096ec49f334792814d545b508c5\n",
            "Successfully built pyaudio\n",
            "Installing collected packages: pyaudio\n",
            "Successfully installed pyaudio-0.2.14\n"
          ]
        }
      ]
    },
    {
      "cell_type": "code",
      "source": [
        "import speech_recognition as sr\n",
        "from gtts import gTTS\n",
        "import os\n",
        "import webbrowser\n",
        "import wikipedia\n",
        "import playsound\n"
      ],
      "metadata": {
        "colab": {
          "base_uri": "https://localhost:8080/"
        },
        "id": "e_4O3chnYU8b",
        "outputId": "ca71f277-9ae1-48b0-b6ea-af2ab77b7d26"
      },
      "execution_count": 3,
      "outputs": [
        {
          "output_type": "stream",
          "name": "stderr",
          "text": [
            "WARNING:playsound:playsound is relying on another python subprocess. Please use `pip install pygobject` if you want playsound to run more efficiently.\n"
          ]
        }
      ]
    },
    {
      "cell_type": "code",
      "source": [
        "from IPython.display import Audio\n",
        "\n",
        "def text_to_speech(text, lang='en'):\n",
        "    tts = gTTS(text=text, lang=lang, slow=False)\n",
        "    filename = \"response.mp3\"\n",
        "    tts.save(filename)\n",
        "    # Use IPython para reproduzir o áudio no Colab\n",
        "    return Audio(filename, autoplay=True)"
      ],
      "metadata": {
        "id": "V-JHaP-qYXX_"
      },
      "execution_count": 9,
      "outputs": []
    },
    {
      "cell_type": "code",
      "source": [
        "text_to_speech(\"Hello! This is a test of the Text-to-Speech module.\")"
      ],
      "metadata": {
        "colab": {
          "base_uri": "https://localhost:8080/",
          "height": 75
        },
        "id": "ayA91z9lZSK0",
        "outputId": "78cd3440-4421-4136-84b8-247ba75e516d"
      },
      "execution_count": 11,
      "outputs": [
        {
          "output_type": "execute_result",
          "data": {
            "text/plain": [
              "<IPython.lib.display.Audio object>"
            ],
            "text/html": [
              "\n",
              "                <audio  controls=\"controls\" autoplay=\"autoplay\">\n",
              "                    <source src=\"data:audio/mpeg;base64,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\" type=\"audio/mpeg\" />\n",
              "                    Your browser does not support the audio element.\n",
              "                </audio>\n",
              "              "
            ]
          },
          "metadata": {},
          "execution_count": 11
        }
      ]
    },
    {
      "cell_type": "code",
      "source": [
        "def test_speech_to_text():\n",
        "    print(\"Speak something...\")\n",
        "    text = speech_to_text()\n",
        "    print(f\"Recognized Text: {text}\")\n",
        "\n",
        "    recognizer = sr.Recognizer()\n",
        "    with sr.Microphone() as source:\n",
        "        print(\"Listening...\")\n",
        "        recognizer.adjust_for_ambient_noise(source)\n",
        "        audio = recognizer.listen(source)\n",
        "    try:\n",
        "        text = recognizer.recognize_google(audio)\n",
        "        print(f\"You said: {text}\")\n",
        "        return text.lower()\n",
        "    except sr.UnknownValueError:\n",
        "        print(\"Sorry, I did not understand.\")\n",
        "        text_to_speech(\"Sorry, I did not understand.\")\n",
        "        return \"\"\n",
        "    except sr.RequestError:\n",
        "        print(\"Speech service is unavailable.\")\n",
        "        text_to_speech(\"Speech service is unavailable.\")\n",
        "        return \"\"\n"
      ],
      "metadata": {
        "id": "z-55riPoYZ7v"
      },
      "execution_count": 20,
      "outputs": []
    },
    {
      "cell_type": "code",
      "source": [],
      "metadata": {
        "id": "aBaZ3yCxZjvM"
      },
      "execution_count": 20,
      "outputs": []
    },
    {
      "cell_type": "code",
      "source": [
        "def search_wikipedia(query):\n",
        "    try:\n",
        "        result = wikipedia.summary(query, sentences=2)\n",
        "        print(f\"Wikipedia says: {result}\")\n",
        "        text_to_speech(result)\n",
        "    except wikipedia.exceptions.DisambiguationError as e:\n",
        "        print(\"Multiple results found, please specify.\")\n",
        "        text_to_speech(\"Multiple results found, please specify.\")\n",
        "    except Exception as e:\n",
        "        print(\"Error accessing Wikipedia.\")\n",
        "        text_to_speech(\"Error accessing Wikipedia.\")\n",
        "\n",
        "def open_youtube():\n",
        "    webbrowser.open(\"https://www.youtube.com\")\n",
        "    text_to_speech(\"Opening YouTube.\")\n",
        "\n",
        "def find_nearest_pharmacy():\n",
        "    webbrowser.open(\"https://www.google.com/maps/search/pharmacy+near+me\")\n",
        "    text_to_speech(\"Here is the nearest pharmacy on Google Maps.\")\n"
      ],
      "metadata": {
        "id": "lMiJ-fRKYbxu"
      },
      "execution_count": 21,
      "outputs": []
    },
    {
      "cell_type": "code",
      "source": [
        "def virtual_assistant():\n",
        "    text_to_speech(\"Hello! How can I assist you today?\")\n",
        "    while True:\n",
        "        command = speech_to_text()\n",
        "        if \"wikipedia\" in command:\n",
        "            text_to_speech(\"What do you want to search on Wikipedia?\")\n",
        "            query = speech_to_text()\n",
        "            if query:\n",
        "                search_wikipedia(query)\n",
        "        elif \"youtube\" in command:\n",
        "            open_youtube()\n",
        "        elif \"pharmacy\" in command:\n",
        "            find_nearest_pharmacy()\n",
        "        elif \"exit\" in command or \"bye\" in command:\n",
        "            text_to_speech(\"Goodbye! Have a great day!\")\n",
        "            break\n",
        "        else:\n",
        "            text_to_speech(\"I am sorry, I didn't catch that.\")\n"
      ],
      "metadata": {
        "id": "EreoXV-0Yd8v"
      },
      "execution_count": 22,
      "outputs": []
    },
    {
      "cell_type": "code",
      "source": [
        "search_wikipedia(\"Python programming language\")\n"
      ],
      "metadata": {
        "colab": {
          "base_uri": "https://localhost:8080/"
        },
        "id": "ZaeCHJYNYf-5",
        "outputId": "896747a0-3837-4fcb-9773-a59f8f413199"
      },
      "execution_count": 15,
      "outputs": [
        {
          "output_type": "stream",
          "name": "stdout",
          "text": [
            "Wikipedia says: Python is a high-level, general-purpose programming language. Its design philosophy emphasizes code readability with the use of significant indentation.\n"
          ]
        }
      ]
    },
    {
      "cell_type": "code",
      "source": [
        "open_youtube()"
      ],
      "metadata": {
        "id": "S3nJfNNxZ58i"
      },
      "execution_count": 17,
      "outputs": []
    }
  ]
}